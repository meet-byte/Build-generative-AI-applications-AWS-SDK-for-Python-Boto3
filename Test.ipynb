{
 "cells": [
  {
   "cell_type": "code",
   "execution_count": 7,
   "metadata": {},
   "outputs": [
    {
     "name": "stdout",
     "output_type": "stream",
     "text": [
      "Defaulting to user installation because normal site-packages is not writeable\n",
      "Requirement already satisfied: boto3 in c:\\users\\meetmavani\\appdata\\roaming\\python\\python312\\site-packages (1.37.6)\n",
      "Requirement already satisfied: botocore<1.38.0,>=1.37.6 in c:\\users\\meetmavani\\appdata\\roaming\\python\\python312\\site-packages (from boto3) (1.37.6)\n",
      "Requirement already satisfied: jmespath<2.0.0,>=0.7.1 in c:\\users\\meetmavani\\appdata\\roaming\\python\\python312\\site-packages (from boto3) (1.0.1)\n",
      "Requirement already satisfied: s3transfer<0.12.0,>=0.11.0 in c:\\users\\meetmavani\\appdata\\roaming\\python\\python312\\site-packages (from boto3) (0.11.4)\n",
      "Requirement already satisfied: python-dateutil<3.0.0,>=2.1 in c:\\users\\meetmavani\\appdata\\roaming\\python\\python312\\site-packages (from botocore<1.38.0,>=1.37.6->boto3) (2.9.0.post0)\n",
      "Requirement already satisfied: urllib3!=2.2.0,<3,>=1.25.4 in c:\\users\\meetmavani\\appdata\\roaming\\python\\python312\\site-packages (from botocore<1.38.0,>=1.37.6->boto3) (2.3.0)\n",
      "Requirement already satisfied: six>=1.5 in c:\\users\\meetmavani\\appdata\\roaming\\python\\python312\\site-packages (from python-dateutil<3.0.0,>=2.1->botocore<1.38.0,>=1.37.6->boto3) (1.17.0)\n"
     ]
    },
    {
     "name": "stderr",
     "output_type": "stream",
     "text": [
      "\n",
      "[notice] A new release of pip is available: 24.3.1 -> 25.0.1\n",
      "[notice] To update, run: C:\\Python312\\python.exe -m pip install --upgrade pip\n"
     ]
    }
   ],
   "source": [
    "!pip install boto3"
   ]
  },
  {
   "cell_type": "markdown",
   "metadata": {},
   "source": [
    "Build generative AI applications on Amazon Bedrock with the AWS SDK for Python (Boto3)\n"
   ]
  },
  {
   "cell_type": "markdown",
   "metadata": {},
   "source": [
    "Import the required libraries:\n"
   ]
  },
  {
   "cell_type": "code",
   "execution_count": 20,
   "metadata": {},
   "outputs": [],
   "source": [
    "import boto3\n",
    "import json"
   ]
  },
  {
   "cell_type": "markdown",
   "metadata": {},
   "source": [
    "Set up the Boto3 client to use the Amazon Bedrock runtime and specify the AWS Region:\n"
   ]
  },
  {
   "cell_type": "code",
   "execution_count": 21,
   "metadata": {},
   "outputs": [],
   "source": [
    "# Set up the Amazon Bedrock client\n",
    "bedrock_client = boto3.client(\n",
    "    \tservice_name=\"bedrock-runtime\",\n",
    "    region_name=\"us-east-1\"\n",
    ")"
   ]
  },
  {
   "cell_type": "markdown",
   "metadata": {},
   "source": [
    "Define the model to invoke using its model ID. "
   ]
  },
  {
   "cell_type": "code",
   "execution_count": 22,
   "metadata": {},
   "outputs": [],
   "source": [
    "model_id = \"anthropic.claude-3-5-sonnet-20240620-v1:0\"\n"
   ]
  },
  {
   "cell_type": "code",
   "execution_count": 27,
   "metadata": {},
   "outputs": [],
   "source": [
    "prompt = \"Hello, how are you?\""
   ]
  },
  {
   "cell_type": "code",
   "execution_count": 28,
   "metadata": {},
   "outputs": [],
   "source": [
    "payload = {\n",
    "    \"anthropic_version\": \"bedrock-2023-05-31\",\n",
    "    \"max_tokens\": 2048,\n",
    "    \"temperature\": 0.9,\n",
    "    \"top_k\": 250,\n",
    "    \"top_p\": 1,\n",
    "    \"messages\": [\n",
    "        {\n",
    "            \"role\": \"user\",\n",
    "            \"content\": [\n",
    "                {\n",
    "                    \"type\": \"text\",\n",
    "                    \"text\": prompt\n",
    "                }\n",
    "            ]\n",
    "        }\n",
    "    ]\n",
    "}"
   ]
  },
  {
   "cell_type": "code",
   "execution_count": 29,
   "metadata": {},
   "outputs": [],
   "source": [
    "# Invoke the Amazon Bedrock model\n",
    "response = bedrock_client.invoke_model(\n",
    "    modelId=model_id,\n",
    "    body=json.dumps(payload)\n",
    ")"
   ]
  },
  {
   "cell_type": "code",
   "execution_count": 30,
   "metadata": {},
   "outputs": [
    {
     "name": "stdout",
     "output_type": "stream",
     "text": [
      "Response: Hello! I'm doing well, thank you for asking. How are you doing today? Is there anything I can help you with?\n"
     ]
    }
   ],
   "source": [
    "# Process the response\n",
    "result = json.loads(response[\"body\"].read())\n",
    "generated_text = \"\".join([output[\"text\"] for output in result[\"content\"]])\n",
    "print(f\"Response: {generated_text}\")"
   ]
  },
  {
   "cell_type": "markdown",
   "metadata": {},
   "source": [
    "Complete Code:"
   ]
  },
  {
   "cell_type": "code",
   "execution_count": 31,
   "metadata": {},
   "outputs": [
    {
     "name": "stdout",
     "output_type": "stream",
     "text": [
      "Response: Hello! As an AI language model, I don't have feelings, but I'm operating properly and ready to assist you with any questions or tasks you may have.\n"
     ]
    }
   ],
   "source": [
    "import boto3\n",
    "import json\n",
    "\n",
    "# Set up the Amazon Bedrock client\n",
    "bedrock_client = boto3.client(\n",
    "    service_name=\"bedrock-runtime\",\n",
    "    region_name=\"us-east-1\"\n",
    ")\n",
    "\n",
    "# Define the model ID\n",
    "model_id = \"anthropic.claude-3-sonnet-20240229-v1:0\"\n",
    "\n",
    "# Prepare the input prompt\n",
    "prompt = \"Hello, how are you?\"\n",
    "\n",
    "# Create the request payload\n",
    "payload = {\n",
    "    \"anthropic_version\": \"bedrock-2023-05-31\",\n",
    "    \"max_tokens\": 2048,\n",
    "    \"temperature\": 0.9,\n",
    "    \"top_k\": 250,\n",
    "    \"top_p\": 1,\n",
    "    \"messages\": [\n",
    "        {\n",
    "            \"role\": \"user\",\n",
    "            \"content\": [\n",
    "                {\n",
    "                    \"type\": \"text\",\n",
    "                    \"text\": prompt\n",
    "                }\n",
    "            ]\n",
    "        }\n",
    "    ]\n",
    "}\n",
    "\n",
    "# Invoke the Amazon Bedrock model\n",
    "response = bedrock_client.invoke_model(\n",
    "    modelId=model_id,\n",
    "    body=json.dumps(payload)\n",
    ")\n",
    "\n",
    "# Process the response\n",
    "result = json.loads(response[\"body\"].read())\n",
    "generated_text = \"\".join([output[\"text\"] for output in result[\"content\"]])\n",
    "print(f\"Response: {generated_text}\")"
   ]
  },
  {
   "cell_type": "code",
   "execution_count": null,
   "metadata": {},
   "outputs": [],
   "source": []
  }
 ],
 "metadata": {
  "kernelspec": {
   "display_name": "venv",
   "language": "python",
   "name": "python3"
  },
  "language_info": {
   "codemirror_mode": {
    "name": "ipython",
    "version": 3
   },
   "file_extension": ".py",
   "mimetype": "text/x-python",
   "name": "python",
   "nbconvert_exporter": "python",
   "pygments_lexer": "ipython3",
   "version": "3.12.0"
  }
 },
 "nbformat": 4,
 "nbformat_minor": 2
}
