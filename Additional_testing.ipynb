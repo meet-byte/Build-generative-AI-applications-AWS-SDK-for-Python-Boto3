{
 "cells": [
  {
   "cell_type": "markdown",
   "metadata": {},
   "source": [
    "### Our Objective to compare the two different model response for the same prompt and compare their answer"
   ]
  },
  {
   "cell_type": "markdown",
   "metadata": {},
   "source": [
    "#### Using the Claude model"
   ]
  },
  {
   "cell_type": "code",
   "execution_count": 13,
   "metadata": {},
   "outputs": [
    {
     "name": "stdout",
     "output_type": "stream",
     "text": [
      "Response: I understand your desire to experience the majesty of Mount Everest despite being visually impaired. While it may not be possible for you to physically see the mountain, there are several ways you can explore and appreciate it through other senses. Here are some suggestions:\n",
      "\n",
      "1. Audio descriptions: Many tour operators and organizations offer audio guides or descriptive tours of Mount Everest and the Himalayan region. These can provide vivid verbal descriptions of the landscape, including the towering peaks, glaciers, and natural surroundings.\n",
      "\n",
      "2. Tactile models: Some museums and educational centers have 3D tactile models or relief maps of Mount Everest that you can explore with your hands. These models can give you a sense of the mountain's shape, elevation, and surrounding terrain.\n",
      "\n",
      "3. Virtual reality experiences: With advancements in technology, some companies offer virtual reality (VR) experiences that simulate the Everest environment. These immersive experiences can provide audio descriptions, spatial sounds, and even simulated tactile sensations to create a multi-sensory experience.\n",
      "\n",
      "4. Guided tours: Consider joining a guided tour group that caters to individuals with visual impairments. These tours often have experienced guides who can provide detailed verbal descriptions and allow you to touch and feel elements of the environment, such as rocks, snow, or equipment used in mountaineering.\n",
      "\n",
      "5. Literature and audio books: Reading or listening to books, journals, or accounts written by Everest climbers and explorers can provide vivid descriptions and personal experiences that can help you imagine the mountain's grandeur and challenges.\n",
      "\n",
      "6. Documentaries and podcasts: Many documentaries and podcasts focus on Mount Everest, featuring interviews with climbers, experts, and locals, as well as detailed audio descriptions and sound effects that can help you immerse yourself in the Everest experience.\n",
      "\n",
      "Remember, experiencing Mount Everest is not just about visual perception; it's about embracing the adventure, the history, and the raw power of nature through your other senses. With the right resources and guidance, you can create a rich and meaningful connection with this iconic mountain.\n"
     ]
    }
   ],
   "source": [
    "import boto3\n",
    "import json\n",
    "\n",
    "bedrock_client = boto3.client(\n",
    "    service_name=\"bedrock-runtime\",\n",
    "    region_name=\"us-east-1\"\n",
    ")\n",
    "\n",
    "model_id = \"anthropic.claude-3-sonnet-20240229-v1:0\"\n",
    "\n",
    "prompt = \"i am blind person but i want see the mount averest can you please guide me?\"\n",
    "\n",
    "payload = {\n",
    "    \"anthropic_version\": \"bedrock-2023-05-31\",\n",
    "    \"max_tokens\": 2048,\n",
    "    \"temperature\": 0.9,\n",
    "    \"top_k\": 250,\n",
    "    \"top_p\": 1,\n",
    "    \"messages\": [\n",
    "        {\n",
    "            \"role\": \"user\",\n",
    "            \"content\": [\n",
    "                {\n",
    "                    \"type\": \"text\",\n",
    "                    \"text\": prompt\n",
    "                }\n",
    "            ]\n",
    "        }\n",
    "    ]\n",
    "}\n",
    "\n",
    "response = bedrock_client.invoke_model(\n",
    "    modelId=model_id,\n",
    "    body=json.dumps(payload)\n",
    ")\n",
    "\n",
    "result = json.loads(response[\"body\"].read())\n",
    "generated_text = \"\".join([output[\"text\"] for output in result[\"content\"]])\n",
    "print(f\"Response: {generated_text}\")"
   ]
  },
  {
   "cell_type": "markdown",
   "metadata": {},
   "source": [
    "#### using the titan text generator"
   ]
  },
  {
   "cell_type": "code",
   "execution_count": 12,
   "metadata": {},
   "outputs": [
    {
     "name": "stdout",
     "output_type": "stream",
     "text": [
      "Response: \n",
      "This LLM is not aware of your current location or how to sufficiently answer your question about Mount Averest. However, you can find out more about Mount Averest by doing a web search.\n"
     ]
    }
   ],
   "source": [
    "import boto3\n",
    "import json\n",
    "\n",
    "# Initialize Bedrock client\n",
    "bedrock_client = boto3.client(\n",
    "    service_name=\"bedrock-runtime\",\n",
    "    region_name=\"us-east-1\"\n",
    ")\n",
    "\n",
    "# Use Amazon Titan Text Lite model\n",
    "model_id = \"amazon.titan-text-lite-v1\"\n",
    "\n",
    "# Define the input prompt\n",
    "prompt = \"i am blind person but i want see the mount averest can you please guide me?\"\n",
    "\n",
    "# Prepare the request payload\n",
    "payload = {\n",
    "    \"inputText\": prompt,\n",
    "    \"textGenerationConfig\": {\n",
    "        \"maxTokenCount\": 2048,\n",
    "        \"temperature\": 0.9,\n",
    "        \"topP\": 1.0,\n",
    "        \"stopSequences\": []\n",
    "    }\n",
    "}\n",
    "\n",
    "# Invoke the Amazon Titan Text model\n",
    "response = bedrock_client.invoke_model(\n",
    "    modelId=model_id,\n",
    "    body=json.dumps(payload),\n",
    "    accept=\"application/json\",\n",
    "    contentType=\"application/json\"\n",
    ")\n",
    "\n",
    "# Process the response\n",
    "result = json.loads(response[\"body\"].read())\n",
    "\n",
    "# Extract and print the generated text\n",
    "generated_text = result.get(\"results\", [{}])[0].get(\"outputText\", \"No response generated\")\n",
    "print(f\"Response: {generated_text}\")\n"
   ]
  },
  {
   "cell_type": "markdown",
   "metadata": {},
   "source": [
    "### comparison by ChatGPT"
   ]
  },
  {
   "cell_type": "markdown",
   "metadata": {},
   "source": [
    "#### Model-1 Response\n",
    "\n",
    "##### Accuracy & Contextuality:\n",
    "\n",
    "Accurately understands the user's situation (desiring to experience Mount Everest despite visual impairment).\n",
    "Provides contextually relevant suggestions tailored to a visually impaired person's experience.\n",
    "##### Detail & Practicality:\n",
    "\n",
    "Offers multiple actionable ideas (audio descriptions, tactile models, VR experiences, guided tours, literature, documentaries).\n",
    "Addresses both the sensory and experiential aspects of engaging with Mount Everest.\n",
    "Overall Quality:\n",
    "\n",
    "Comprehensive, empathetic, and well-structured.\n",
    "Encourages the user to explore different modalities, which is especially useful given their visual impairment.\n",
    "\n",
    "#### Model-2 Response\n",
    "##### Accuracy & Contextuality:\n",
    "Fails to address the specific needs of the user.\n",
    "Provides a generic response stating a lack of awareness about the user's location and offers to do a web search, which is not helpful in this context.\n",
    "##### Detail & Practicality:\n",
    "Does not offer any actionable suggestions or alternatives.\n",
    "The response is minimal and does not help the user engage with Mount Everest in a meaningful way.\n",
    "##### Overall Quality:\n",
    "Very brief and lacking in helpful content.\n",
    "Does not meet the user's requirements or context.\n",
    "#### Conclusion\n",
    "Model-1's response is the most appropriate. It is accurate, contextually rich, and provides multiple practical suggestions tailored to a visually impaired user's desire to experience Mount Everest. In contrast, Model-2's response is vague, lacks actionable details, and does not address the specific context of the inquiry.\n",
    "\n"
   ]
  }
 ],
 "metadata": {
  "kernelspec": {
   "display_name": "Python 3",
   "language": "python",
   "name": "python3"
  },
  "language_info": {
   "codemirror_mode": {
    "name": "ipython",
    "version": 3
   },
   "file_extension": ".py",
   "mimetype": "text/x-python",
   "name": "python",
   "nbconvert_exporter": "python",
   "pygments_lexer": "ipython3",
   "version": "3.12.0"
  }
 },
 "nbformat": 4,
 "nbformat_minor": 2
}
